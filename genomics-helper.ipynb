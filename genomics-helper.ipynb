{
 "cells": [
  {
   "cell_type": "code",
   "execution_count": 1,
   "id": "2c28e57d",
   "metadata": {
    "execution": {
     "iopub.execute_input": "2024-12-04T16:31:29.894095Z",
     "iopub.status.busy": "2024-12-04T16:31:29.893674Z",
     "iopub.status.idle": "2024-12-04T16:31:29.903140Z",
     "shell.execute_reply": "2024-12-04T16:31:29.902176Z"
    },
    "papermill": {
     "duration": 0.020161,
     "end_time": "2024-12-04T16:31:29.905290",
     "exception": false,
     "start_time": "2024-12-04T16:31:29.885129",
     "status": "completed"
    },
    "tags": []
   },
   "outputs": [],
   "source": [
    "dir = \"/kaggle/input/training-data/training_data2.jsonl\""
   ]
  },
  {
   "cell_type": "code",
   "execution_count": null,
   "id": "20203be8",
   "metadata": {
    "papermill": {
     "duration": null,
     "end_time": null,
     "exception": false,
     "start_time": "2024-12-04T16:31:29.912091",
     "status": "running"
    },
    "tags": []
   },
   "outputs": [],
   "source": [
    "%pip install -U -q 'google-generativeai>=0.8.3'"
   ]
  },
  {
   "cell_type": "code",
   "execution_count": null,
   "id": "0126538f",
   "metadata": {
    "execution": {
     "iopub.execute_input": "2024-12-04T16:22:15.274475Z",
     "iopub.status.busy": "2024-12-04T16:22:15.274055Z",
     "iopub.status.idle": "2024-12-04T16:22:16.273453Z",
     "shell.execute_reply": "2024-12-04T16:22:16.272413Z",
     "shell.execute_reply.started": "2024-12-04T16:22:15.274435Z"
    },
    "papermill": {
     "duration": null,
     "end_time": null,
     "exception": null,
     "start_time": null,
     "status": "pending"
    },
    "tags": []
   },
   "outputs": [],
   "source": [
    "import google.generativeai as genai\n"
   ]
  },
  {
   "cell_type": "code",
   "execution_count": null,
   "id": "af256042",
   "metadata": {
    "execution": {
     "iopub.execute_input": "2024-12-04T16:22:18.148685Z",
     "iopub.status.busy": "2024-12-04T16:22:18.147902Z",
     "iopub.status.idle": "2024-12-04T16:22:18.716231Z",
     "shell.execute_reply": "2024-12-04T16:22:18.714884Z",
     "shell.execute_reply.started": "2024-12-04T16:22:18.148646Z"
    },
    "papermill": {
     "duration": null,
     "end_time": null,
     "exception": null,
     "start_time": null,
     "status": "pending"
    },
    "tags": []
   },
   "outputs": [],
   "source": [
    "from kaggle_secrets import UserSecretsClient\n",
    "\n",
    "GOOGLE_API_KEY = UserSecretsClient().get_secret(\"GOOGLE_API_KEY\")\n",
    "genai.configure(api_key=GOOGLE_API_KEY)"
   ]
  },
  {
   "cell_type": "code",
   "execution_count": null,
   "id": "69c17e61",
   "metadata": {
    "execution": {
     "iopub.execute_input": "2024-12-04T16:22:52.405385Z",
     "iopub.status.busy": "2024-12-04T16:22:52.405015Z",
     "iopub.status.idle": "2024-12-04T16:22:53.870819Z",
     "shell.execute_reply": "2024-12-04T16:22:53.869683Z",
     "shell.execute_reply.started": "2024-12-04T16:22:52.405353Z"
    },
    "papermill": {
     "duration": null,
     "end_time": null,
     "exception": null,
     "start_time": null,
     "status": "pending"
    },
    "tags": []
   },
   "outputs": [],
   "source": [
    "from datasets import load_dataset\n",
    "\n",
    "df = load_dataset(path = \"/kaggle/input/training-data/\",data_files = \"training_data2.jsonl\", split='train')"
   ]
  },
  {
   "cell_type": "code",
   "execution_count": null,
   "id": "b1c56e64",
   "metadata": {
    "execution": {
     "iopub.execute_input": "2024-12-04T16:22:57.625101Z",
     "iopub.status.busy": "2024-12-04T16:22:57.624703Z",
     "iopub.status.idle": "2024-12-04T16:22:57.651108Z",
     "shell.execute_reply": "2024-12-04T16:22:57.650098Z",
     "shell.execute_reply.started": "2024-12-04T16:22:57.625066Z"
    },
    "papermill": {
     "duration": null,
     "end_time": null,
     "exception": null,
     "start_time": null,
     "status": "pending"
    },
    "tags": []
   },
   "outputs": [],
   "source": [
    "df = df.to_pandas()\n",
    "df.head(5)"
   ]
  },
  {
   "cell_type": "code",
   "execution_count": null,
   "id": "30dd18c2",
   "metadata": {
    "execution": {
     "iopub.execute_input": "2024-12-04T16:23:00.707268Z",
     "iopub.status.busy": "2024-12-04T16:23:00.706863Z",
     "iopub.status.idle": "2024-12-04T16:23:16.209153Z",
     "shell.execute_reply": "2024-12-04T16:23:16.207800Z",
     "shell.execute_reply.started": "2024-12-04T16:23:00.707233Z"
    },
    "papermill": {
     "duration": null,
     "end_time": null,
     "exception": null,
     "start_time": null,
     "status": "pending"
    },
    "tags": []
   },
   "outputs": [],
   "source": [
    "%pip install -U -q langchain-community"
   ]
  },
  {
   "cell_type": "code",
   "execution_count": null,
   "id": "eea0d67b",
   "metadata": {
    "execution": {
     "iopub.execute_input": "2024-12-04T16:23:56.137840Z",
     "iopub.status.busy": "2024-12-04T16:23:56.137404Z",
     "iopub.status.idle": "2024-12-04T16:23:56.957278Z",
     "shell.execute_reply": "2024-12-04T16:23:56.956192Z",
     "shell.execute_reply.started": "2024-12-04T16:23:56.137801Z"
    },
    "papermill": {
     "duration": null,
     "end_time": null,
     "exception": null,
     "start_time": null,
     "status": "pending"
    },
    "tags": []
   },
   "outputs": [],
   "source": [
    "from langchain.document_loaders import DataFrameLoader\n",
    "from langchain.vectorstores import Chroma"
   ]
  },
  {
   "cell_type": "code",
   "execution_count": null,
   "id": "7f3916fa",
   "metadata": {
    "execution": {
     "iopub.execute_input": "2024-12-04T16:23:59.668359Z",
     "iopub.status.busy": "2024-12-04T16:23:59.667403Z",
     "iopub.status.idle": "2024-12-04T16:23:59.672446Z",
     "shell.execute_reply": "2024-12-04T16:23:59.671482Z",
     "shell.execute_reply.started": "2024-12-04T16:23:59.668320Z"
    },
    "papermill": {
     "duration": null,
     "end_time": null,
     "exception": null,
     "start_time": null,
     "status": "pending"
    },
    "tags": []
   },
   "outputs": [],
   "source": [
    "df_loader = DataFrameLoader(df, page_content_column= \"completion\")"
   ]
  },
  {
   "cell_type": "code",
   "execution_count": null,
   "id": "d1d4ff61",
   "metadata": {
    "execution": {
     "iopub.execute_input": "2024-12-04T16:24:02.302304Z",
     "iopub.status.busy": "2024-12-04T16:24:02.301842Z",
     "iopub.status.idle": "2024-12-04T16:24:02.348751Z",
     "shell.execute_reply": "2024-12-04T16:24:02.347435Z",
     "shell.execute_reply.started": "2024-12-04T16:24:02.302261Z"
    },
    "papermill": {
     "duration": null,
     "end_time": null,
     "exception": null,
     "start_time": null,
     "status": "pending"
    },
    "tags": []
   },
   "outputs": [],
   "source": [
    "df_document = df_loader.load()\n",
    "display(df_document[:2])"
   ]
  },
  {
   "cell_type": "code",
   "execution_count": null,
   "id": "851f5d21",
   "metadata": {
    "execution": {
     "iopub.execute_input": "2024-12-04T16:24:04.565133Z",
     "iopub.status.busy": "2024-12-04T16:24:04.564699Z",
     "iopub.status.idle": "2024-12-04T16:24:04.576531Z",
     "shell.execute_reply": "2024-12-04T16:24:04.575504Z",
     "shell.execute_reply.started": "2024-12-04T16:24:04.565092Z"
    },
    "papermill": {
     "duration": null,
     "end_time": null,
     "exception": null,
     "start_time": null,
     "status": "pending"
    },
    "tags": []
   },
   "outputs": [],
   "source": [
    "from langchain.text_splitter import CharacterTextSplitter"
   ]
  },
  {
   "cell_type": "code",
   "execution_count": null,
   "id": "73a9e761",
   "metadata": {
    "execution": {
     "iopub.execute_input": "2024-12-04T16:24:07.724319Z",
     "iopub.status.busy": "2024-12-04T16:24:07.723901Z",
     "iopub.status.idle": "2024-12-04T16:24:07.735568Z",
     "shell.execute_reply": "2024-12-04T16:24:07.734521Z",
     "shell.execute_reply.started": "2024-12-04T16:24:07.724276Z"
    },
    "papermill": {
     "duration": null,
     "end_time": null,
     "exception": null,
     "start_time": null,
     "status": "pending"
    },
    "tags": []
   },
   "outputs": [],
   "source": [
    "text_splitter = CharacterTextSplitter(chunk_size=1250,\n",
    "                                      separator=\"\\n\",\n",
    "                                      chunk_overlap=100)\n",
    "texts = text_splitter.split_documents(df_document)"
   ]
  },
  {
   "cell_type": "code",
   "execution_count": null,
   "id": "0c30441b",
   "metadata": {
    "execution": {
     "iopub.execute_input": "2024-12-04T16:24:12.351335Z",
     "iopub.status.busy": "2024-12-04T16:24:12.350904Z",
     "iopub.status.idle": "2024-12-04T16:24:12.357355Z",
     "shell.execute_reply": "2024-12-04T16:24:12.356077Z",
     "shell.execute_reply.started": "2024-12-04T16:24:12.351297Z"
    },
    "papermill": {
     "duration": null,
     "end_time": null,
     "exception": null,
     "start_time": null,
     "status": "pending"
    },
    "tags": []
   },
   "outputs": [],
   "source": [
    "first_doc = texts[1]\n",
    "print(first_doc.page_content)"
   ]
  },
  {
   "cell_type": "code",
   "execution_count": null,
   "id": "5b835593",
   "metadata": {
    "execution": {
     "iopub.execute_input": "2024-12-04T16:24:25.841443Z",
     "iopub.status.busy": "2024-12-04T16:24:25.840529Z",
     "iopub.status.idle": "2024-12-04T16:25:02.515945Z",
     "shell.execute_reply": "2024-12-04T16:25:02.514410Z",
     "shell.execute_reply.started": "2024-12-04T16:24:25.841404Z"
    },
    "papermill": {
     "duration": null,
     "end_time": null,
     "exception": null,
     "start_time": null,
     "status": "pending"
    },
    "tags": []
   },
   "outputs": [],
   "source": [
    "from getpass import getpass\n",
    "OPENAI_API_KEY = getpass(\"OpenAI API Key: \")"
   ]
  },
  {
   "cell_type": "code",
   "execution_count": null,
   "id": "c784e32e",
   "metadata": {
    "execution": {
     "iopub.execute_input": "2024-12-04T16:27:56.397477Z",
     "iopub.status.busy": "2024-12-04T16:27:56.397087Z",
     "iopub.status.idle": "2024-12-04T16:28:07.441806Z",
     "shell.execute_reply": "2024-12-04T16:28:07.440582Z",
     "shell.execute_reply.started": "2024-12-04T16:27:56.397443Z"
    },
    "papermill": {
     "duration": null,
     "end_time": null,
     "exception": null,
     "start_time": null,
     "status": "pending"
    },
    "tags": []
   },
   "outputs": [],
   "source": [
    "pip install langchain-openai"
   ]
  },
  {
   "cell_type": "code",
   "execution_count": null,
   "id": "d7d93af3",
   "metadata": {
    "execution": {
     "iopub.execute_input": "2024-12-04T16:28:23.350357Z",
     "iopub.status.busy": "2024-12-04T16:28:23.349326Z",
     "iopub.status.idle": "2024-12-04T16:28:24.121223Z",
     "shell.execute_reply": "2024-12-04T16:28:24.120295Z",
     "shell.execute_reply.started": "2024-12-04T16:28:23.350316Z"
    },
    "papermill": {
     "duration": null,
     "end_time": null,
     "exception": null,
     "start_time": null,
     "status": "pending"
    },
    "tags": []
   },
   "outputs": [],
   "source": [
    "\n",
    "from langchain_openai import OpenAIEmbeddings\n",
    "\n",
    "model_name = 'text-embedding-ada-002'\n",
    "\n",
    "embed = OpenAIEmbeddings(\n",
    "    model=model_name,\n",
    "    openai_api_key=OPENAI_API_KEY\n",
    ")\n",
    "  "
   ]
  },
  {
   "cell_type": "code",
   "execution_count": null,
   "id": "d3c4c54f",
   "metadata": {
    "execution": {
     "iopub.execute_input": "2024-12-04T16:28:28.029537Z",
     "iopub.status.busy": "2024-12-04T16:28:28.029178Z",
     "iopub.status.idle": "2024-12-04T16:28:58.776594Z",
     "shell.execute_reply": "2024-12-04T16:28:58.775226Z",
     "shell.execute_reply.started": "2024-12-04T16:28:28.029506Z"
    },
    "papermill": {
     "duration": null,
     "end_time": null,
     "exception": null,
     "start_time": null,
     "status": "pending"
    },
    "tags": []
   },
   "outputs": [],
   "source": [
    "pip install chromadb"
   ]
  },
  {
   "cell_type": "code",
   "execution_count": null,
   "id": "9655cbd0",
   "metadata": {
    "execution": {
     "iopub.execute_input": "2024-12-04T16:29:04.291351Z",
     "iopub.status.busy": "2024-12-04T16:29:04.290896Z",
     "iopub.status.idle": "2024-12-04T16:29:12.238755Z",
     "shell.execute_reply": "2024-12-04T16:29:12.237696Z",
     "shell.execute_reply.started": "2024-12-04T16:29:04.291317Z"
    },
    "papermill": {
     "duration": null,
     "end_time": null,
     "exception": null,
     "start_time": null,
     "status": "pending"
    },
    "tags": []
   },
   "outputs": [],
   "source": [
    "directory_cdb = '/kaggle/working/chromadb'\n",
    "chroma_db = Chroma.from_documents(\n",
    "    df_document, embed, persist_directory=directory_cdb\n",
    ")"
   ]
  },
  {
   "cell_type": "code",
   "execution_count": null,
   "id": "b7bb1499",
   "metadata": {
    "execution": {
     "iopub.execute_input": "2024-12-04T16:29:27.424816Z",
     "iopub.status.busy": "2024-12-04T16:29:27.424453Z",
     "iopub.status.idle": "2024-12-04T16:29:27.876711Z",
     "shell.execute_reply": "2024-12-04T16:29:27.875583Z",
     "shell.execute_reply.started": "2024-12-04T16:29:27.424784Z"
    },
    "papermill": {
     "duration": null,
     "end_time": null,
     "exception": null,
     "start_time": null,
     "status": "pending"
    },
    "tags": []
   },
   "outputs": [],
   "source": [
    "from langchain.chat_models import ChatOpenAI\n",
    "from langchain_openai import OpenAI\n",
    "from langchain.chains.conversation.memory import ConversationBufferWindowMemory\n",
    "from langchain.chains import RetrievalQA\n",
    "\n",
    "llm=OpenAI(openai_api_key=OPENAI_API_KEY,\n",
    "           temperature=0.0)\n",
    "\n",
    "conversational_memory = ConversationBufferWindowMemory(\n",
    "    memory_key='chat_history',\n",
    "    k=4, #Number of messages stored in memory\n",
    "    return_messages=True #Must return the messages in the response.\n",
    ")\n",
    "\n",
    "qa = RetrievalQA.from_chain_type(\n",
    "    llm=llm,\n",
    "    chain_type=\"stuff\",\n",
    "    retriever=chroma_db.as_retriever()\n",
    ")"
   ]
  },
  {
   "cell_type": "code",
   "execution_count": null,
   "id": "3b8dd1d0",
   "metadata": {
    "execution": {
     "iopub.execute_input": "2024-12-04T16:29:46.167603Z",
     "iopub.status.busy": "2024-12-04T16:29:46.167211Z",
     "iopub.status.idle": "2024-12-04T16:29:47.573594Z",
     "shell.execute_reply": "2024-12-04T16:29:47.572556Z",
     "shell.execute_reply.started": "2024-12-04T16:29:46.167568Z"
    },
    "papermill": {
     "duration": null,
     "end_time": null,
     "exception": null,
     "start_time": null,
     "status": "pending"
    },
    "tags": []
   },
   "outputs": [],
   "source": [
    "qa.invoke(\"What is the recommendation for amitryptilline for someone with a *17/*17 diplotype?\")"
   ]
  },
  {
   "cell_type": "code",
   "execution_count": null,
   "id": "1ac95a42",
   "metadata": {
    "execution": {
     "iopub.execute_input": "2024-12-02T20:39:54.052113Z",
     "iopub.status.busy": "2024-12-02T20:39:54.050831Z",
     "iopub.status.idle": "2024-12-02T20:39:54.290804Z",
     "shell.execute_reply": "2024-12-02T20:39:54.289718Z",
     "shell.execute_reply.started": "2024-12-02T20:39:54.052063Z"
    },
    "papermill": {
     "duration": null,
     "end_time": null,
     "exception": null,
     "start_time": null,
     "status": "pending"
    },
    "tags": []
   },
   "outputs": [],
   "source": [
    "from langchain.agents import Tool\n",
    "\n",
    "#Defining the list of tool objects to be used by LangChain.\n",
    "tools = [\n",
    "    Tool(\n",
    "        name='Genomic Counseling tool',\n",
    "        func=qa.invoke,\n",
    "        description=(\n",
    "            \"\"\"use this tool when answering how to dose a medication given a phenotype and or a diplotype\"\"\"\n",
    "        )\n",
    "    )\n",
    "]"
   ]
  },
  {
   "cell_type": "code",
   "execution_count": null,
   "id": "0846a890",
   "metadata": {
    "execution": {
     "iopub.execute_input": "2024-12-02T20:40:10.066081Z",
     "iopub.status.busy": "2024-12-02T20:40:10.065675Z",
     "iopub.status.idle": "2024-12-02T20:40:10.456103Z",
     "shell.execute_reply": "2024-12-02T20:40:10.455172Z",
     "shell.execute_reply.started": "2024-12-02T20:40:10.066046Z"
    },
    "papermill": {
     "duration": null,
     "end_time": null,
     "exception": null,
     "start_time": null,
     "status": "pending"
    },
    "tags": []
   },
   "outputs": [],
   "source": [
    "from langchain.agents import create_react_agent\n",
    "from langchain import hub\n",
    "\n",
    "prompt = hub.pull(\"hwchase17/react-chat\")\n",
    "agent = create_react_agent(\n",
    "    tools=tools,\n",
    "    llm=llm,\n",
    "    prompt=prompt,\n",
    ")"
   ]
  },
  {
   "cell_type": "code",
   "execution_count": null,
   "id": "e80a4ce2",
   "metadata": {
    "execution": {
     "iopub.execute_input": "2024-12-02T20:40:38.697478Z",
     "iopub.status.busy": "2024-12-02T20:40:38.697049Z",
     "iopub.status.idle": "2024-12-02T20:40:38.704489Z",
     "shell.execute_reply": "2024-12-02T20:40:38.703094Z",
     "shell.execute_reply.started": "2024-12-02T20:40:38.697438Z"
    },
    "papermill": {
     "duration": null,
     "end_time": null,
     "exception": null,
     "start_time": null,
     "status": "pending"
    },
    "tags": []
   },
   "outputs": [],
   "source": [
    "from langchain.agents import AgentExecutor\n",
    "agent_executor = AgentExecutor(agent=agent,\n",
    "                               tools=tools,\n",
    "                               verbose=True,\n",
    "                               memory=conversational_memory,\n",
    "                               max_iterations=30,\n",
    "                               max_execution_time=600,\n",
    "                               handle_parsing_errors=True\n",
    "                               )"
   ]
  },
  {
   "cell_type": "code",
   "execution_count": null,
   "id": "f0defe9a",
   "metadata": {
    "execution": {
     "iopub.execute_input": "2024-12-02T20:47:00.386675Z",
     "iopub.status.busy": "2024-12-02T20:47:00.386295Z",
     "iopub.status.idle": "2024-12-02T20:47:04.262136Z",
     "shell.execute_reply": "2024-12-02T20:47:04.260956Z",
     "shell.execute_reply.started": "2024-12-02T20:47:00.386642Z"
    },
    "papermill": {
     "duration": null,
     "end_time": null,
     "exception": null,
     "start_time": null,
     "status": "pending"
    },
    "tags": []
   },
   "outputs": [],
   "source": [
    "response = agent_executor.invoke({\"input\": \"\"\"I have a patient that is an intermediate metabolizer for citalopram, what is the recommendation?\"\"\"})"
   ]
  },
  {
   "cell_type": "code",
   "execution_count": null,
   "id": "1e71272c",
   "metadata": {
    "execution": {
     "iopub.execute_input": "2024-12-02T20:47:06.176700Z",
     "iopub.status.busy": "2024-12-02T20:47:06.176238Z",
     "iopub.status.idle": "2024-12-02T20:47:06.183845Z",
     "shell.execute_reply": "2024-12-02T20:47:06.182515Z",
     "shell.execute_reply.started": "2024-12-02T20:47:06.176661Z"
    },
    "papermill": {
     "duration": null,
     "end_time": null,
     "exception": null,
     "start_time": null,
     "status": "pending"
    },
    "tags": []
   },
   "outputs": [],
   "source": [
    "response['output']"
   ]
  },
  {
   "cell_type": "code",
   "execution_count": null,
   "id": "5441c92a",
   "metadata": {
    "execution": {
     "iopub.execute_input": "2024-12-02T21:02:58.962223Z",
     "iopub.status.busy": "2024-12-02T21:02:58.961665Z",
     "iopub.status.idle": "2024-12-02T21:03:11.367944Z",
     "shell.execute_reply": "2024-12-02T21:03:11.366355Z",
     "shell.execute_reply.started": "2024-12-02T21:02:58.962176Z"
    },
    "papermill": {
     "duration": null,
     "end_time": null,
     "exception": null,
     "start_time": null,
     "status": "pending"
    },
    "tags": []
   },
   "outputs": [],
   "source": [
    "pip install streamlit"
   ]
  },
  {
   "cell_type": "code",
   "execution_count": null,
   "id": "2c19089b",
   "metadata": {
    "execution": {
     "iopub.execute_input": "2024-12-02T22:23:21.455412Z",
     "iopub.status.busy": "2024-12-02T22:23:21.455032Z",
     "iopub.status.idle": "2024-12-02T22:23:32.479030Z",
     "shell.execute_reply": "2024-12-02T22:23:32.477355Z",
     "shell.execute_reply.started": "2024-12-02T22:23:21.455380Z"
    },
    "papermill": {
     "duration": null,
     "end_time": null,
     "exception": null,
     "start_time": null,
     "status": "pending"
    },
    "tags": []
   },
   "outputs": [],
   "source": [
    "\n",
    "pip install widgetsnbextension \n"
   ]
  },
  {
   "cell_type": "code",
   "execution_count": null,
   "id": "51b07037",
   "metadata": {
    "execution": {
     "iopub.execute_input": "2024-12-02T22:23:33.841252Z",
     "iopub.status.busy": "2024-12-02T22:23:33.840778Z",
     "iopub.status.idle": "2024-12-02T22:23:44.805417Z",
     "shell.execute_reply": "2024-12-02T22:23:44.803751Z",
     "shell.execute_reply.started": "2024-12-02T22:23:33.841211Z"
    },
    "papermill": {
     "duration": null,
     "end_time": null,
     "exception": null,
     "start_time": null,
     "status": "pending"
    },
    "tags": []
   },
   "outputs": [],
   "source": [
    "pip install ipywidgets \n"
   ]
  },
  {
   "cell_type": "code",
   "execution_count": null,
   "id": "4fe4fc08",
   "metadata": {
    "execution": {
     "iopub.execute_input": "2024-12-02T22:23:44.808126Z",
     "iopub.status.busy": "2024-12-02T22:23:44.807724Z",
     "iopub.status.idle": "2024-12-02T22:23:56.376359Z",
     "shell.execute_reply": "2024-12-02T22:23:56.374829Z",
     "shell.execute_reply.started": "2024-12-02T22:23:44.808086Z"
    },
    "papermill": {
     "duration": null,
     "end_time": null,
     "exception": null,
     "start_time": null,
     "status": "pending"
    },
    "tags": []
   },
   "outputs": [],
   "source": [
    "pip install voila"
   ]
  },
  {
   "cell_type": "code",
   "execution_count": null,
   "id": "0e94140e",
   "metadata": {
    "execution": {
     "iopub.execute_input": "2024-12-02T22:24:55.397454Z",
     "iopub.status.busy": "2024-12-02T22:24:55.397063Z",
     "iopub.status.idle": "2024-12-02T22:24:55.402667Z",
     "shell.execute_reply": "2024-12-02T22:24:55.401460Z",
     "shell.execute_reply.started": "2024-12-02T22:24:55.397421Z"
    },
    "papermill": {
     "duration": null,
     "end_time": null,
     "exception": null,
     "start_time": null,
     "status": "pending"
    },
    "tags": []
   },
   "outputs": [],
   "source": [
    "import ipywidgets as widgets\n",
    "from IPython.display import display, clear_output"
   ]
  },
  {
   "cell_type": "code",
   "execution_count": null,
   "id": "184c522b",
   "metadata": {
    "execution": {
     "iopub.execute_input": "2024-12-02T22:25:23.220953Z",
     "iopub.status.busy": "2024-12-02T22:25:23.220510Z",
     "iopub.status.idle": "2024-12-02T22:25:23.242969Z",
     "shell.execute_reply": "2024-12-02T22:25:23.241569Z",
     "shell.execute_reply.started": "2024-12-02T22:25:23.220915Z"
    },
    "papermill": {
     "duration": null,
     "end_time": null,
     "exception": null,
     "start_time": null,
     "status": "pending"
    },
    "tags": []
   },
   "outputs": [],
   "source": [
    "grand = widgets.ToggleButtons(\n",
    "            options=['grandson', 'granddaughter']\n",
    "        )"
   ]
  },
  {
   "cell_type": "code",
   "execution_count": null,
   "id": "22233d90",
   "metadata": {
    "execution": {
     "iopub.execute_input": "2024-12-02T22:25:35.486577Z",
     "iopub.status.busy": "2024-12-02T22:25:35.485285Z",
     "iopub.status.idle": "2024-12-02T22:25:35.495998Z",
     "shell.execute_reply": "2024-12-02T22:25:35.494736Z",
     "shell.execute_reply.started": "2024-12-02T22:25:35.486513Z"
    },
    "papermill": {
     "duration": null,
     "end_time": null,
     "exception": null,
     "start_time": null,
     "status": "pending"
    },
    "tags": []
   },
   "outputs": [],
   "source": [
    "name = widgets.Text(placeholder='Your name here')"
   ]
  },
  {
   "cell_type": "code",
   "execution_count": null,
   "id": "b4ba78b7",
   "metadata": {
    "execution": {
     "iopub.execute_input": "2024-12-02T22:26:17.263934Z",
     "iopub.status.busy": "2024-12-02T22:26:17.263512Z",
     "iopub.status.idle": "2024-12-02T22:26:17.280105Z",
     "shell.execute_reply": "2024-12-02T22:26:17.278963Z",
     "shell.execute_reply.started": "2024-12-02T22:26:17.263896Z"
    },
    "papermill": {
     "duration": null,
     "end_time": null,
     "exception": null,
     "start_time": null,
     "status": "pending"
    },
    "tags": []
   },
   "outputs": [],
   "source": [
    "button_send = widgets.Button(\n",
    "                description='Send to grandma',\n",
    "                tooltip='Send',\n",
    "                style={'description_width': 'initial'}\n",
    "            )\n",
    "\n",
    "output = widgets.Output()\n",
    "\n",
    "def on_button_clicked(event):\n",
    "    with output:\n",
    "        clear_output()\n",
    "        print(\"Sent message: \")\n",
    "        print(f\"Dear Grandma! This is your favourite {grand.value}, {name.value}.\")\n",
    "        print(f\"I would love to come over on {date.value} for dinner, if that's okay for you!\")\n",
    "        print(f\"Also, if you don't mind, I'll bring along {friends.value} hungry ghosts for your delicious food!\")\n",
    "\n",
    "button_send.on_click(on_button_clicked)\n",
    "\n",
    "vbox_result = widgets.VBox([button_send, output])"
   ]
  },
  {
   "cell_type": "code",
   "execution_count": null,
   "id": "d6a3bde8",
   "metadata": {
    "papermill": {
     "duration": null,
     "end_time": null,
     "exception": null,
     "start_time": null,
     "status": "pending"
    },
    "tags": []
   },
   "outputs": [],
   "source": [
    "voila notebook_name.ipynb"
   ]
  }
 ],
 "metadata": {
  "kaggle": {
   "accelerator": "none",
   "dataSources": [
    {
     "datasetId": 6214777,
     "sourceId": 10080865,
     "sourceType": "datasetVersion"
    }
   ],
   "dockerImageVersionId": 30786,
   "isGpuEnabled": false,
   "isInternetEnabled": true,
   "language": "python",
   "sourceType": "notebook"
  },
  "kernelspec": {
   "display_name": "Python 3",
   "language": "python",
   "name": "python3"
  },
  "language_info": {
   "codemirror_mode": {
    "name": "ipython",
    "version": 3
   },
   "file_extension": ".py",
   "mimetype": "text/x-python",
   "name": "python",
   "nbconvert_exporter": "python",
   "pygments_lexer": "ipython3",
   "version": "3.10.14"
  },
  "papermill": {
   "default_parameters": {},
   "duration": null,
   "end_time": null,
   "environment_variables": {},
   "exception": null,
   "input_path": "__notebook__.ipynb",
   "output_path": "__notebook__.ipynb",
   "parameters": {},
   "start_time": "2024-12-04T16:31:27.221445",
   "version": "2.6.0"
  }
 },
 "nbformat": 4,
 "nbformat_minor": 5
}